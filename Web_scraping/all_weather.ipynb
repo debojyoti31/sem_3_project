{
 "cells": [
  {
   "cell_type": "code",
   "execution_count": 1,
   "metadata": {},
   "outputs": [],
   "source": [
    "from bs4 import BeautifulSoup\n",
    "import requests\n",
    "import csv"
   ]
  },
  {
   "cell_type": "code",
   "execution_count": 2,
   "metadata": {},
   "outputs": [],
   "source": [
    "for year in range(2012,2023):\n",
    "    header = {'User-Agent': 'Mozilla/5.0 (X11; Linux x86_64) AppleWebKit/537.36 (KHTML, like Gecko) Chrome/108.0.0.0 Safari/537.3'}\n",
    "    source = requests.get('https://www.accuweather.com/en/hurricane/history/?year='+str(year),headers=header).text\n",
    "    soup = BeautifulSoup(source, 'lxml')\n",
    "    csv_file = open('cyclone_'+str(year)+'.csv', 'w')\n",
    "    csv_writer = csv.writer(csv_file)\n",
    "    csv_writer.writerow(['Name','Status','Date','Basin'])\n",
    "    past_storm_list = soup.find('div', class_ = 'past-storm-list__list')\n",
    "    storm_rows = past_storm_list.find_all('a')\n",
    "    for storm_row in storm_rows:\n",
    "        storm_name = storm_row.find('div', class_ = 'storm-row__name').text.split()[0]\n",
    "        storm_status = storm_row.find('div', class_ = 'storm-row__status').text\n",
    "        storm_date = storm_row.find('div', class_ = 'storm-row__date').text\n",
    "        storm_basin = storm_row.find('div', class_ = 'storm-row__basin').text\n",
    "        csv_writer.writerow([storm_name,storm_status,storm_date,storm_basin])"
   ]
  },
  {
   "cell_type": "code",
   "execution_count": 4,
   "metadata": {},
   "outputs": [],
   "source": [
    "csv_file = open('cyclone_history.csv', 'w')\n",
    "csv_writer = csv.writer(csv_file)\n",
    "csv_writer.writerow(['Name','Status','Date','Basin'])\n",
    "for year in range(2012,2023):\n",
    "    header = {'User-Agent': 'Mozilla/5.0 (X11; Linux x86_64) AppleWebKit/537.36 (KHTML, like Gecko) Chrome/108.0.0.0 Safari/537.3'}\n",
    "    source = requests.get('https://www.accuweather.com/en/hurricane/history/?year='+str(year),headers=header).text\n",
    "    soup = BeautifulSoup(source, 'lxml')\n",
    "    past_storm_list = soup.find('div', class_ = 'past-storm-list__list')\n",
    "    storm_rows = past_storm_list.find_all('a')\n",
    "    for storm_row in storm_rows:\n",
    "        storm_name = storm_row.find('div', class_ = 'storm-row__name').text.split()[0]\n",
    "        storm_status = storm_row.find('div', class_ = 'storm-row__status').text\n",
    "        storm_date = storm_row.find('div', class_ = 'storm-row__date').text\n",
    "        storm_basin = storm_row.find('div', class_ = 'storm-row__basin').text\n",
    "        csv_writer.writerow([storm_name,storm_status,storm_date,storm_basin])"
   ]
  }
 ],
 "metadata": {
  "kernelspec": {
   "display_name": "Python 3",
   "language": "python",
   "name": "python3"
  },
  "language_info": {
   "codemirror_mode": {
    "name": "ipython",
    "version": 3
   },
   "file_extension": ".py",
   "mimetype": "text/x-python",
   "name": "python",
   "nbconvert_exporter": "python",
   "pygments_lexer": "ipython3",
   "version": "3.10.6"
  },
  "orig_nbformat": 4,
  "vscode": {
   "interpreter": {
    "hash": "916dbcbb3f70747c44a77c7bcd40155683ae19c65e1c03b4aa3499c5328201f1"
   }
  }
 },
 "nbformat": 4,
 "nbformat_minor": 2
}
